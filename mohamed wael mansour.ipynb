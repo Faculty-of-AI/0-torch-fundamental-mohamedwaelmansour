{
  "cells": [
    {
      "cell_type": "markdown",
      "metadata": {
        "id": "AzDBM_v4iMe7"
      },
      "source": [
        "# 00. PyTorch Fundamentals Exercises\n",
        "\n",
        "### 1. Documentation reading \n",
        "\n",
        "A big part of deep learning (and learning to code in general) is getting familiar with the documentation of a certain framework you're using. We'll be using the PyTorch documentation a lot throughout the rest of this course. So I'd recommend spending 10-minutes reading the following (it's okay if you don't get some things for now, the focus is not yet full understanding, it's awareness):\n",
        "  * The documentation on [`torch.Tensor`](https://pytorch.org/docs/stable/tensors.html#torch-tensor).\n",
        "  * The documentation on [`torch.cuda`](https://pytorch.org/docs/master/notes/cuda.html#cuda-semantics).\n",
        "\n"
      ]
    },
    {
      "cell_type": "code",
      "execution_count": 2,
      "metadata": {
        "id": "bGD0oD8Kizak"
      },
      "outputs": [],
      "source": [
        "# No code solution (reading)"
      ]
    },
    {
      "cell_type": "markdown",
      "metadata": {
        "id": "__iXqqz-ioUJ"
      },
      "source": [
        "### 2. Create a random tensor with shape `(7, 7)`.\n"
      ]
    },
    {
      "cell_type": "code",
      "execution_count": 3,
      "metadata": {
        "id": "6pUq9Dc8i2L7"
      },
      "outputs": [
        {
          "name": "stdout",
          "output_type": "stream",
          "text": [
            "tensor([[0.6865, 0.5456, 0.0615, 0.6399, 0.0312, 0.9273, 0.2199],\n",
            "        [0.5244, 0.6721, 0.9672, 0.4174, 0.3113, 0.7339, 0.3956],\n",
            "        [0.0576, 0.8536, 0.9446, 0.6443, 0.0080, 0.4208, 0.8496],\n",
            "        [0.1473, 0.3022, 0.3497, 0.7699, 0.0374, 0.1034, 0.4627],\n",
            "        [0.4262, 0.2523, 0.8202, 0.2181, 0.4786, 0.3577, 0.0451],\n",
            "        [0.8214, 0.0613, 0.1859, 0.3020, 0.4626, 0.4545, 0.2987],\n",
            "        [0.2565, 0.1093, 0.9093, 0.7762, 0.8432, 0.1039, 0.4118]])\n"
          ]
        }
      ],
      "source": [
        "\n",
        "import torch\n",
        "\n",
        "random_tensor = torch.rand(7, 7)\n",
        "\n",
        "print(random_tensor)\n",
        "\n",
        "\n",
        " \n"
      ]
    },
    {
      "cell_type": "markdown",
      "metadata": {
        "id": "9-XxvRLfiqkR"
      },
      "source": [
        "### 3. Perform a matrix multiplication on the tensor from 2 with another random tensor with shape `(1, 7)` (hint: you may have to transpose the second tensor)."
      ]
    },
    {
      "cell_type": "code",
      "execution_count": 4,
      "metadata": {
        "id": "NcLqR0Sbi_vT"
      },
      "outputs": [
        {
          "name": "stdout",
          "output_type": "stream",
          "text": [
            "Result shape: torch.Size([7, 1])\n",
            "tensor([[1.1694],\n",
            "        [1.3718],\n",
            "        [0.4467],\n",
            "        [1.6366],\n",
            "        [1.4269],\n",
            "        [0.8152],\n",
            "        [1.8129]])\n"
          ]
        }
      ],
      "source": [
        "import torch\n",
        "random_tensor = torch.rand(7, 7)\n",
        "other_tensor = torch.rand(1, 7)\n",
        "result = torch.matmul(random_tensor, other_tensor.T)\n",
        "\n",
        "print(\"Result shape:\", result.shape)\n",
        "print(result)\n",
        "\n"
      ]
    },
    {
      "cell_type": "markdown",
      "metadata": {
        "id": "eiutdKUFiryU"
      },
      "source": [
        "### 4. Set the random seed to `0` and do 2 & 3 over again.\n",
        "\n",
        "The output should be:\n",
        "```\n",
        "(tensor([[1.8542],\n",
        "         [1.9611],\n",
        "         [2.2884],\n",
        "         [3.0481],\n",
        "         [1.7067],\n",
        "         [2.5290],\n",
        "         [1.7989]]), torch.Size([7, 1]))\n",
        "```"
      ]
    },
    {
      "cell_type": "code",
      "execution_count": 5,
      "metadata": {
        "id": "D-lOWI_1jRMm"
      },
      "outputs": [
        {
          "name": "stdout",
          "output_type": "stream",
          "text": [
            "tensor([[1.8542],\n",
            "        [1.9611],\n",
            "        [2.2884],\n",
            "        [3.0481],\n",
            "        [1.7067],\n",
            "        [2.5290],\n",
            "        [1.7989]]) torch.Size([7, 1])\n"
          ]
        }
      ],
      "source": [
        "import torch\n",
        "torch.manual_seed(0)\n",
        "random_tensor = torch.rand(7, 7)\n",
        "other_tensor = torch.rand(1, 7)\n",
        "result = torch.matmul(random_tensor, other_tensor.T)\n",
        "\n",
        "print(result, result.shape)\n"
      ]
    },
    {
      "cell_type": "markdown",
      "metadata": {
        "id": "ezY6ks9Cis37"
      },
      "source": [
        "### 5. Speaking of random seeds, we saw how to set it with `torch.manual_seed()` but is there a GPU equivalent? (hint: you'll need to look into the documentation for `torch.cuda` for this one)\n",
        "  * If there is, set the GPU random seed to `1234`."
      ]
    },
    {
      "cell_type": "code",
      "execution_count": 6,
      "metadata": {
        "id": "_LKWcfSTjp00"
      },
      "outputs": [
        {
          "name": "stdout",
          "output_type": "stream",
          "text": [
            "CUDA not available, skipping GPU seed setup.\n"
          ]
        }
      ],
      "source": [
        "import torch\n",
        "\n",
        "# Set CPU random seed\n",
        "torch.manual_seed(0)\n",
        "\n",
        "# Set GPU random seed (if CUDA is available)\n",
        "if torch.cuda.is_available():\n",
        "    torch.cuda.manual_seed(1234)\n",
        "    print(\"GPU random seed set to 1234\")\n",
        "else:\n",
        "    print(\"CUDA not available, skipping GPU seed setup.\")\n"
      ]
    },
    {
      "cell_type": "markdown",
      "metadata": {
        "id": "Ir9qSaj6it4n"
      },
      "source": [
        "\n",
        "### 6. Create two random tensors of shape `(2, 3)` and send them both to the GPU (you'll need access to a GPU for this). Set `torch.manual_seed(1234)` when creating the tensors (this doesn't have to be the GPU random seed). The output should be something like:\n",
        "\n",
        "```\n",
        "Device: cuda\n",
        "(tensor([[0.0290, 0.4019, 0.2598],\n",
        "         [0.3666, 0.0583, 0.7006]], device='cuda:0'),\n",
        " tensor([[0.0518, 0.4681, 0.6738],\n",
        "         [0.3315, 0.7837, 0.5631]], device='cuda:0'))\n",
        "```"
      ]
    },
    {
      "cell_type": "code",
      "execution_count": 7,
      "metadata": {
        "id": "azXExiFZj5nm"
      },
      "outputs": [
        {
          "name": "stdout",
          "output_type": "stream",
          "text": [
            "Device: cpu\n",
            "tensor([[0.0290, 0.4019, 0.2598],\n",
            "        [0.3666, 0.0583, 0.7006]]) tensor([[0.0518, 0.4681, 0.6738],\n",
            "        [0.3315, 0.7837, 0.5631]])\n"
          ]
        }
      ],
      "source": [
        "import torch\n",
        "torch.manual_seed(1234)\n",
        "device = \"cuda\" if torch.cuda.is_available() else \"cpu\"\n",
        "print(\"Device:\", device)\n",
        "tensor_a = torch.rand(2, 3).to(device)\n",
        "tensor_b = torch.rand(2, 3).to(device)\n",
        "\n",
        "print(tensor_a, tensor_b)\n",
        "\n"
      ]
    },
    {
      "cell_type": "markdown",
      "metadata": {
        "id": "5TlAxeiSiu1y"
      },
      "source": [
        "\n",
        "### 7. Perform a matrix multiplication on the tensors you created in 6 (again, you may have to adjust the shapes of one of the tensors).\n",
        "\n",
        "The output should look like:\n",
        "```\n",
        "(tensor([[0.3647, 0.4709],\n",
        "         [0.5184, 0.5617]], device='cuda:0'), torch.Size([2, 2]))\n",
        "```"
      ]
    },
    {
      "cell_type": "code",
      "execution_count": 8,
      "metadata": {
        "id": "fAeG7ox0lHEO"
      },
      "outputs": [
        {
          "name": "stdout",
          "output_type": "stream",
          "text": [
            "Device: cpu\n",
            "tensor([[0.3647, 0.4709],\n",
            "        [0.5184, 0.5617]]) torch.Size([2, 2])\n"
          ]
        }
      ],
      "source": [
        "import torch\n",
        "\n",
        "# Set manual seed\n",
        "torch.manual_seed(1234)\n",
        "\n",
        "# Select device (GPU if available)\n",
        "device = \"cuda\" if torch.cuda.is_available() else \"cpu\"\n",
        "print(\"Device:\", device)\n",
        "\n",
        "# Create two random tensors on the selected device\n",
        "tensor_a = torch.rand(2, 3).to(device)\n",
        "tensor_b = torch.rand(2, 3).to(device)\n",
        "\n",
        "# Perform matrix multiplication (need to transpose tensor_b)\n",
        "result = torch.matmul(tensor_a, tensor_b.T)\n",
        "\n",
        "print(result, result.shape)\n",
        "\n"
      ]
    },
    {
      "cell_type": "markdown",
      "metadata": {
        "id": "G7qfa5CSivwg"
      },
      "source": [
        "### 8. Find the maximum and minimum values of the output of 7."
      ]
    },
    {
      "cell_type": "code",
      "execution_count": 9,
      "metadata": {
        "id": "Fu8_3mZpllOd"
      },
      "outputs": [
        {
          "name": "stdout",
          "output_type": "stream",
          "text": [
            "Result:\n",
            " tensor([[0.3647, 0.4709],\n",
            "        [0.5184, 0.5617]])\n",
            "Max value: tensor(0.5617)\n",
            "Min value: tensor(0.3647)\n"
          ]
        }
      ],
      "source": [
        "import torch\n",
        "\n",
        "# Set manual seed\n",
        "torch.manual_seed(1234)\n",
        "\n",
        "# Select device (GPU if available)\n",
        "device = \"cuda\" if torch.cuda.is_available() else \"cpu\"\n",
        "\n",
        "# Create tensors\n",
        "tensor_a = torch.rand(2, 3).to(device)\n",
        "tensor_b = torch.rand(2, 3).to(device)\n",
        "\n",
        "# Matrix multiplication\n",
        "result = torch.matmul(tensor_a, tensor_b.T)\n",
        "\n",
        "# Find max and min values\n",
        "max_value = torch.max(result)\n",
        "min_value = torch.min(result)\n",
        "\n",
        "print(\"Result:\\n\", result)\n",
        "print(\"Max value:\", max_value)\n",
        "print(\"Min value:\", min_value)\n"
      ]
    },
    {
      "cell_type": "markdown",
      "metadata": {
        "id": "wrTj5FgNiw47"
      },
      "source": [
        "### 9. Find the maximum and minimum index values of the output of 7."
      ]
    },
    {
      "cell_type": "code",
      "execution_count": 10,
      "metadata": {
        "id": "CCEKt4K2lsfQ"
      },
      "outputs": [
        {
          "name": "stdout",
          "output_type": "stream",
          "text": [
            "Result:\n",
            " tensor([[0.3647, 0.4709],\n",
            "        [0.5184, 0.5617]])\n",
            "Max value: tensor(0.5617)\n",
            "Min value: tensor(0.3647)\n"
          ]
        }
      ],
      "source": [
        "\n",
        "import torch\n",
        "\n",
        "# Set manual seed\n",
        "torch.manual_seed(1234)\n",
        "\n",
        "# Select device (GPU if available)\n",
        "device = \"cuda\" if torch.cuda.is_available() else \"cpu\"\n",
        "\n",
        "# Create tensors\n",
        "tensor_a = torch.rand(2, 3).to(device)\n",
        "tensor_b = torch.rand(2, 3).to(device)\n",
        "\n",
        "# Matrix multiplication\n",
        "result = torch.matmul(tensor_a, tensor_b.T)\n",
        "\n",
        "# Find max and min values\n",
        "max_value = torch.max(result)\n",
        "min_value = torch.min(result)\n",
        "\n",
        "print(\"Result:\\n\", result)\n",
        "print(\"Max value:\", max_value)\n",
        "print(\"Min value:\", min_value)\n"
      ]
    },
    {
      "cell_type": "markdown",
      "metadata": {
        "id": "hmeybz4uixy7"
      },
      "source": [
        "\n",
        "### 10. Make a random tensor with shape `(1, 1, 1, 10)` and then create a new tensor with all the `1` dimensions removed to be left with a tensor of shape `(10)`. Set the seed to `7` when you create it and print out the first tensor and it's shape as well as the second tensor and it's shape.\n",
        "\n",
        "The output should look like:\n",
        "\n",
        "```\n",
        "tensor([[[[0.5349, 0.1988, 0.6592, 0.6569, 0.2328, 0.4251, 0.2071, 0.6297,\n",
        "           0.3653, 0.8513]]]]) torch.Size([1, 1, 1, 10])\n",
        "tensor([0.5349, 0.1988, 0.6592, 0.6569, 0.2328, 0.4251, 0.2071, 0.6297, 0.3653,\n",
        "        0.8513]) torch.Size([10])\n",
        "```"
      ]
    },
    {
      "cell_type": "code",
      "execution_count": 11,
      "metadata": {
        "id": "TQ9zbRzVl1jV"
      },
      "outputs": [
        {
          "name": "stdout",
          "output_type": "stream",
          "text": [
            "tensor([[[[0.5349, 0.1988, 0.6592, 0.6569, 0.2328, 0.4251, 0.2071, 0.6297,\n",
            "           0.3653, 0.8513]]]]) torch.Size([1, 1, 1, 10])\n",
            "tensor([0.5349, 0.1988, 0.6592, 0.6569, 0.2328, 0.4251, 0.2071, 0.6297, 0.3653,\n",
            "        0.8513]) torch.Size([10])\n"
          ]
        }
      ],
      "source": [
        "import torch\n",
        "\n",
        "# Set the random seed\n",
        "torch.manual_seed(7)\n",
        "\n",
        "# Create a random tensor with shape (1, 1, 1, 10)\n",
        "tensor_4d = torch.rand(1, 1, 1, 10)\n",
        "\n",
        "# Remove all dimensions of size 1\n",
        "tensor_squeezed = tensor_4d.squeeze()\n",
        "\n",
        "# Print both tensors and their shapes\n",
        "print(tensor_4d, tensor_4d.shape)\n",
        "print(tensor_squeezed, tensor_squeezed.shape)\n"
      ]
    }
  ],
  "metadata": {
    "accelerator": "GPU",
    "colab": {
      "collapsed_sections": [],
      "name": "00_pytorch_fundamentals_exercises.ipynb",
      "provenance": []
    },
    "kernelspec": {
      "display_name": "Python 3",
      "name": "python3"
    },
    "language_info": {
      "codemirror_mode": {
        "name": "ipython",
        "version": 3
      },
      "file_extension": ".py",
      "mimetype": "text/x-python",
      "name": "python",
      "nbconvert_exporter": "python",
      "pygments_lexer": "ipython3",
      "version": "3.11.0"
    }
  },
  "nbformat": 4,
  "nbformat_minor": 0
}
